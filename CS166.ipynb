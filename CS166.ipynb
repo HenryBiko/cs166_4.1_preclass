{
  "nbformat": 4,
  "nbformat_minor": 0,
  "metadata": {
    "colab": {
      "name": "Untitled1.ipynb",
      "provenance": []
    },
    "kernelspec": {
      "name": "python3",
      "display_name": "Python 3"
    }
  },
  "cells": [
    {
      "cell_type": "code",
      "metadata": {
        "id": "zrIvfo9X_W35",
        "colab_type": "code",
        "colab": {}
      },
      "source": [
        "import numpy as np \n",
        "\n",
        "class TrafficSimulation:\n",
        "    def __init__(self, length = 100, density = 0.5, maxv = 5, pslow = 0.5):\n",
        "\n",
        "\n",
        "        self.length = length\n",
        "        self.density = density\n",
        "        self.maxv = maxv\n",
        "        self.pslow = pslow\n",
        "    \n",
        "        self.state = [maxv if i <= length*density else -1 for i in range(length)]\n",
        "        np.random.shuffle(self.state)\n",
        "        \n",
        "    def display(self):\n",
        "        print(''.join('.' if x == -1 else str(x) for x in self.state))\n",
        "        \n",
        "    def calculate(self):\n",
        "        for i, v in enumerate(self.state):\n",
        "            if v >= 0:\n",
        "                d = 1\n",
        "                # find distance to next car, d\n",
        "                while self.state[(i + d) % self.length] == -1: d += 1\n",
        "                \n",
        "                # adjust speed - if distance to next car > speed, +1 velocity. \n",
        "                # If less, slow down to d-1\n",
        "                self.state[i] = min(self.state[i] + 1, self.maxv) if d > v + 1 else (d-1)\n",
        "                \n",
        "                # decrease speed by 1 with probability pslow\n",
        "                if (self.state[i] > 0 and np.random.random() < self.pslow): self.state[i] -= 1\n",
        "                   \n",
        "                    \n",
        "    def update(self):\n",
        "        newstate = [-1] * self.length\n",
        "\n",
        "        for i, v in enumerate(self.state):\n",
        "            if v >= 0: \n",
        "                newstate[(i + v) % self.length] = v\n",
        "        \n",
        "        self.state = newstate\n",
        "        \n",
        "    def run(self, n, verbose = False):\n",
        "        for i in range(n):\n",
        "            self.calculate()\n",
        "            if verbose: self.display()\n",
        "            self.update()\n",
        "            "
      ],
      "execution_count": 0,
      "outputs": []
    },
    {
      "cell_type": "code",
      "metadata": {
        "id": "T-aMpbYQ_jT5",
        "colab_type": "code",
        "colab": {
          "base_uri": "https://localhost:8080/",
          "height": 357
        },
        "outputId": "1b2aff10-5a6e-4fd1-ed42-0c66d32d6487"
      },
      "source": [
        "np.random.seed(seed = 20)\n",
        "# traffic = TrafficSimulation(length = 100, density = 0.03, maxv = 5, pslow = 0.5)\n",
        "traffic = TrafficSimulation(length = 100, density = 0.1, maxv = 5, pslow = 1)\n",
        "traffic.run(20, verbose = True)"
      ],
      "execution_count": 20,
      "outputs": [
        {
          "output_type": "stream",
          "text": [
            "..4.....4.....4...........4........1..4..............................2...4.....04............4......\n",
            "......4.....4.....4...........4.....1.....4............................2.....0.0....4............4..\n",
            ".4........4.....4.....4...........1..1........4..........................2...0.0........4...........\n",
            ".....4........4.....4.....4........1..1...........4........................0.0.0............4.......\n",
            ".........4........4.....4.....4.....1..1..............4....................0.0.0................4...\n",
            "4............4........4.....4.....1..1..1.................4................0.0.0....................\n",
            "....4............4........4.....1..1..1..1....................4............0.0.0....................\n",
            "........4............4........1..1..1..1..1.......................4........0.0.0....................\n",
            "............4............4.....1..1..1..1..1..........................3....0.0.0....................\n",
            "................4............1..1..1..1..1..1............................0.0.0.0....................\n",
            "....................4.........1..1..1..1..1..1...........................0.0.0.0....................\n",
            "........................4......1..1..1..1..1..1..........................0.0.0.0....................\n",
            "............................2...1..1..1..1..1..1.........................0.0.0.0....................\n",
            "..............................1..1..1..1..1..1..1........................0.0.0.0....................\n",
            "...............................1..1..1..1..1..1..1.......................0.0.0.0....................\n",
            "................................1..1..1..1..1..1..1......................0.0.0.0....................\n",
            ".................................1..1..1..1..1..1..1.....................0.0.0.0....................\n",
            "..................................1..1..1..1..1..1..1....................0.0.0.0....................\n",
            "...................................1..1..1..1..1..1..1...................0.0.0.0....................\n",
            "....................................1..1..1..1..1..1..1..................0.0.0.0....................\n"
          ],
          "name": "stdout"
        }
      ]
    }
  ]
}